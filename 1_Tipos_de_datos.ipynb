{
  "cells": [
    {
      "cell_type": "markdown",
      "metadata": {
        "id": "view-in-github",
        "colab_type": "text"
      },
      "source": [
        "<a href=\"https://colab.research.google.com/github/VenchiaruttiGA/AnalisisYCuracion/blob/master/1_Tipos_de_datos.ipynb\" target=\"_parent\"><img src=\"https://colab.research.google.com/assets/colab-badge.svg\" alt=\"Open In Colab\"/></a>"
      ]
    },
    {
      "cell_type": "code",
      "source": [
        "A = 15\n",
        "print(A)\n",
        "\n",
        "if A > 0:\n",
        "  print(\"a es un número positivo\")"
      ],
      "metadata": {
        "id": "VnPvREk3qXXq",
        "outputId": "95d8b12d-c27e-47fb-b0af-afb917c3c74d",
        "colab": {
          "base_uri": "https://localhost:8080/"
        }
      },
      "execution_count": 1,
      "outputs": [
        {
          "output_type": "stream",
          "name": "stdout",
          "text": [
            "15\n",
            "a es un número positivo\n"
          ]
        }
      ]
    },
    {
      "cell_type": "code",
      "source": [
        "def sumar(a, b):\n",
        "  return a+b"
      ],
      "metadata": {
        "id": "M_vsz9wMqwI1"
      },
      "execution_count": null,
      "outputs": []
    },
    {
      "cell_type": "code",
      "source": [
        "sumar(3, 4)"
      ],
      "metadata": {
        "colab": {
          "base_uri": "https://localhost:8080/"
        },
        "id": "aJjFiQ2iq2iO",
        "outputId": "0d679403-888c-4c80-b710-839ca5f3fb4d"
      },
      "execution_count": null,
      "outputs": [
        {
          "output_type": "execute_result",
          "data": {
            "text/plain": [
              "7"
            ]
          },
          "metadata": {},
          "execution_count": 4
        }
      ]
    },
    {
      "cell_type": "code",
      "source": [
        "for i in [10, 20, 30]:\n",
        "  print(i/2)"
      ],
      "metadata": {
        "colab": {
          "base_uri": "https://localhost:8080/"
        },
        "id": "SzdTuIYLq7lI",
        "outputId": "c46042a7-3299-4708-86e7-96792dce06ec"
      },
      "execution_count": null,
      "outputs": [
        {
          "output_type": "stream",
          "name": "stdout",
          "text": [
            "5.0\n",
            "10.0\n",
            "15.0\n"
          ]
        }
      ]
    },
    {
      "cell_type": "code",
      "source": [
        "for i in range(0, 100, 3):\n",
        "  print(i)"
      ],
      "metadata": {
        "colab": {
          "base_uri": "https://localhost:8080/"
        },
        "id": "LHfylCnerDxK",
        "outputId": "a63c694b-5d88-4519-c2aa-07390a4ae15a"
      },
      "execution_count": null,
      "outputs": [
        {
          "output_type": "stream",
          "name": "stdout",
          "text": [
            "0\n",
            "3\n",
            "6\n",
            "9\n",
            "12\n",
            "15\n",
            "18\n",
            "21\n",
            "24\n",
            "27\n",
            "30\n",
            "33\n",
            "36\n",
            "39\n",
            "42\n",
            "45\n",
            "48\n",
            "51\n",
            "54\n",
            "57\n",
            "60\n",
            "63\n",
            "66\n",
            "69\n",
            "72\n",
            "75\n",
            "78\n",
            "81\n",
            "84\n",
            "87\n",
            "90\n",
            "93\n",
            "96\n",
            "99\n"
          ]
        }
      ]
    },
    {
      "cell_type": "markdown",
      "metadata": {
        "id": "LqAfua5ZaMDm"
      },
      "source": [
        "## A Python List Is More Than Just a List\n",
        "\n",
        "Let's consider now what happens when we use a Python data structure that holds many Python objects.\n",
        "The standard mutable multi-element container in Python is the list.\n",
        "We can create a list of integers as follows:"
      ]
    },
    {
      "cell_type": "code",
      "execution_count": null,
      "metadata": {
        "id": "Sqc43bwJaMDm",
        "outputId": "55e04e98-0316-46d3-bd2d-82e46e57585d"
      },
      "outputs": [
        {
          "data": {
            "text/plain": [
              "[0, 1, 2, 3, 4, 5, 6, 7, 8, 9]"
            ]
          },
          "execution_count": 1,
          "metadata": {},
          "output_type": "execute_result"
        }
      ],
      "source": [
        "L = list(range(10))\n",
        "L"
      ]
    },
    {
      "cell_type": "code",
      "execution_count": null,
      "metadata": {
        "id": "xoNgGf14aMDn",
        "outputId": "280d23ec-1f8c-4b8e-ab8f-ea9f97df611d"
      },
      "outputs": [
        {
          "data": {
            "text/plain": [
              "int"
            ]
          },
          "execution_count": 2,
          "metadata": {},
          "output_type": "execute_result"
        }
      ],
      "source": [
        "type(L[0])"
      ]
    },
    {
      "cell_type": "markdown",
      "metadata": {
        "id": "CF4syIU1aMDn"
      },
      "source": [
        "Or, similarly, a list of strings:"
      ]
    },
    {
      "cell_type": "code",
      "execution_count": null,
      "metadata": {
        "id": "lBjpPg_RaMDn",
        "outputId": "e5f04f4b-84c1-4043-9ee0-796c87b89f12"
      },
      "outputs": [
        {
          "data": {
            "text/plain": [
              "['0', '1', '2', '3', '4', '5', '6', '7', '8', '9']"
            ]
          },
          "execution_count": 3,
          "metadata": {},
          "output_type": "execute_result"
        }
      ],
      "source": [
        "L2 = [str(c) for c in L]\n",
        "L2"
      ]
    },
    {
      "cell_type": "code",
      "execution_count": null,
      "metadata": {
        "id": "YRqxDc99aMDn",
        "outputId": "0193dd18-354e-4365-c114-45f15b23a2c2"
      },
      "outputs": [
        {
          "data": {
            "text/plain": [
              "str"
            ]
          },
          "execution_count": 4,
          "metadata": {},
          "output_type": "execute_result"
        }
      ],
      "source": [
        "type(L2[0])"
      ]
    },
    {
      "cell_type": "markdown",
      "metadata": {
        "id": "f6CT8-KVaMDn"
      },
      "source": [
        "Because of Python's dynamic typing, we can even create heterogeneous lists:"
      ]
    },
    {
      "cell_type": "code",
      "execution_count": null,
      "metadata": {
        "id": "GcuF-krkaMDn",
        "outputId": "d8f66220-ef31-46b4-d466-06cd87fc8283"
      },
      "outputs": [
        {
          "data": {
            "text/plain": [
              "[bool, str, float, int]"
            ]
          },
          "execution_count": 5,
          "metadata": {},
          "output_type": "execute_result"
        }
      ],
      "source": [
        "L3 = [True, \"2\", 3.0, 4]\n",
        "[type(item) for item in L3]"
      ]
    },
    {
      "cell_type": "markdown",
      "metadata": {
        "id": "8FHCAr9naMDn"
      },
      "source": [
        "But this flexibility comes at a cost: to allow these flexible types, each item in the list must contain its own type info, reference count, and other information–that is, each item is a complete Python object.\n",
        "In the special case that all variables are of the same type, much of this information is redundant: it can be much more efficient to store data in a fixed-type array.\n",
        "The difference between a dynamic-type list and a fixed-type (NumPy-style) array is illustrated in the following figure:"
      ]
    },
    {
      "cell_type": "markdown",
      "metadata": {
        "id": "uiFZjirbaMDn"
      },
      "source": [
        "![Array Memory Layout](figures/array_vs_list.png)"
      ]
    },
    {
      "cell_type": "markdown",
      "metadata": {
        "id": "UdwM3je3aMDn"
      },
      "source": [
        "At the implementation level, the array essentially contains a single pointer to one contiguous block of data.\n",
        "The Python list, on the other hand, contains a pointer to a block of pointers, each of which in turn points to a full Python object like the Python integer we saw earlier.\n",
        "Again, the advantage of the list is flexibility: because each list element is a full structure containing both data and type information, the list can be filled with data of any desired type.\n",
        "Fixed-type NumPy-style arrays lack this flexibility, but are much more efficient for storing and manipulating data."
      ]
    },
    {
      "cell_type": "markdown",
      "metadata": {
        "id": "ZcUuo8PEaMDn"
      },
      "source": [
        "## Fixed-Type Arrays in Python\n",
        "\n",
        "Python offers several different options for storing data in efficient, fixed-type data buffers.\n",
        "The built-in ``array`` module (available since Python 3.3) can be used to create dense arrays of a uniform type:"
      ]
    },
    {
      "cell_type": "code",
      "execution_count": null,
      "metadata": {
        "id": "5UW9i4T7aMDn",
        "outputId": "d350caac-0f46-4bbd-f6dc-f90e473cb5b3"
      },
      "outputs": [
        {
          "data": {
            "text/plain": [
              "array('i', [0, 1, 2, 3, 4, 5, 6, 7, 8, 9])"
            ]
          },
          "execution_count": 6,
          "metadata": {},
          "output_type": "execute_result"
        }
      ],
      "source": [
        "import array\n",
        "L = list(range(10))\n",
        "A = array.array('i', L)\n",
        "A"
      ]
    },
    {
      "cell_type": "markdown",
      "metadata": {
        "id": "nHnAPiJtaMDn"
      },
      "source": [
        "Here ``'i'`` is a type code indicating the contents are integers.\n",
        "\n",
        "Much more useful, however, is the ``ndarray`` object of the NumPy package.\n",
        "While Python's ``array`` object provides efficient storage of array-based data, NumPy adds to this efficient *operations* on that data.\n",
        "We will explore these operations in later sections; here we'll demonstrate several ways of creating a NumPy array.\n",
        "\n",
        "We'll start with the standard NumPy import, under the alias ``np``:"
      ]
    },
    {
      "cell_type": "code",
      "execution_count": null,
      "metadata": {
        "id": "fO3zJ8CwaMDn"
      },
      "outputs": [],
      "source": [
        "import numpy as np"
      ]
    },
    {
      "cell_type": "markdown",
      "metadata": {
        "id": "yZFBQdHHaMDo"
      },
      "source": [
        "## Creating Arrays from Python Lists\n",
        "\n",
        "First, we can use ``np.array`` to create arrays from Python lists:"
      ]
    },
    {
      "cell_type": "code",
      "execution_count": null,
      "metadata": {
        "id": "GvaaU78yaMDo",
        "outputId": "267cdebd-1389-4e43-b8b9-13dfdb98a58e"
      },
      "outputs": [
        {
          "data": {
            "text/plain": [
              "array([1, 4, 2, 5, 3])"
            ]
          },
          "execution_count": 8,
          "metadata": {},
          "output_type": "execute_result"
        }
      ],
      "source": [
        "# integer array:\n",
        "np.array([1, 4, 2, 5, 3])"
      ]
    },
    {
      "cell_type": "markdown",
      "metadata": {
        "id": "JCepqVFPaMDo"
      },
      "source": [
        "Remember that unlike Python lists, NumPy is constrained to arrays that all contain the same type.\n",
        "If types do not match, NumPy will upcast if possible (here, integers are up-cast to floating point):"
      ]
    },
    {
      "cell_type": "code",
      "execution_count": null,
      "metadata": {
        "id": "jzPWb-cnaMDo",
        "outputId": "27791094-66d7-42e8-bf7a-11a49970b91a"
      },
      "outputs": [
        {
          "data": {
            "text/plain": [
              "array([ 3.14,  4.  ,  2.  ,  3.  ])"
            ]
          },
          "execution_count": 9,
          "metadata": {},
          "output_type": "execute_result"
        }
      ],
      "source": [
        "np.array([3.14, 4, 2, 3])"
      ]
    },
    {
      "cell_type": "markdown",
      "metadata": {
        "id": "PxbFLEQvaMDo"
      },
      "source": [
        "If we want to explicitly set the data type of the resulting array, we can use the ``dtype`` keyword:"
      ]
    },
    {
      "cell_type": "code",
      "execution_count": null,
      "metadata": {
        "id": "nFs3nx2maMDo",
        "outputId": "78f6dbcf-8ba6-45c8-9f73-d94ed39a0350"
      },
      "outputs": [
        {
          "data": {
            "text/plain": [
              "array([ 1.,  2.,  3.,  4.], dtype=float32)"
            ]
          },
          "execution_count": 10,
          "metadata": {},
          "output_type": "execute_result"
        }
      ],
      "source": [
        "np.array([1, 2, 3, 4], dtype='float32')"
      ]
    },
    {
      "cell_type": "markdown",
      "metadata": {
        "id": "K4Lk_fdCaMDo"
      },
      "source": [
        "Finally, unlike Python lists, NumPy arrays can explicitly be multi-dimensional; here's one way of initializing a multidimensional array using a list of lists:"
      ]
    },
    {
      "cell_type": "code",
      "execution_count": null,
      "metadata": {
        "id": "4uo1_f06aMDo",
        "outputId": "0f5ca0ae-2361-473b-f63d-4b575b36122f"
      },
      "outputs": [
        {
          "data": {
            "text/plain": [
              "array([[2, 3, 4],\n",
              "       [4, 5, 6],\n",
              "       [6, 7, 8]])"
            ]
          },
          "execution_count": 11,
          "metadata": {},
          "output_type": "execute_result"
        }
      ],
      "source": [
        "# nested lists result in multi-dimensional arrays\n",
        "np.array([range(i, i + 3) for i in [2, 4, 6]])"
      ]
    },
    {
      "cell_type": "markdown",
      "metadata": {
        "id": "EhCwbUy9aMDo"
      },
      "source": [
        "The inner lists are treated as rows of the resulting two-dimensional array."
      ]
    },
    {
      "cell_type": "markdown",
      "metadata": {
        "id": "cSm-qJixaMDo"
      },
      "source": [
        "## Creating Arrays from Scratch\n",
        "\n",
        "Especially for larger arrays, it is more efficient to create arrays from scratch using routines built into NumPy.\n",
        "Here are several examples:"
      ]
    },
    {
      "cell_type": "code",
      "execution_count": null,
      "metadata": {
        "id": "SMrRzFukaMDo",
        "outputId": "4e9e9f41-a2a1-4d59-d941-d0e8f08b030d"
      },
      "outputs": [
        {
          "data": {
            "text/plain": [
              "array([0, 0, 0, 0, 0, 0, 0, 0, 0, 0])"
            ]
          },
          "execution_count": 12,
          "metadata": {},
          "output_type": "execute_result"
        }
      ],
      "source": [
        "# Create a length-10 integer array filled with zeros\n",
        "np.zeros(10, dtype=int)"
      ]
    },
    {
      "cell_type": "code",
      "execution_count": null,
      "metadata": {
        "id": "ElFIPh3UaMDo",
        "outputId": "1b2bf9ad-2eff-4260-b914-14c3caa0ff6d"
      },
      "outputs": [
        {
          "data": {
            "text/plain": [
              "array([[ 1.,  1.,  1.,  1.,  1.],\n",
              "       [ 1.,  1.,  1.,  1.,  1.],\n",
              "       [ 1.,  1.,  1.,  1.,  1.]])"
            ]
          },
          "execution_count": 13,
          "metadata": {},
          "output_type": "execute_result"
        }
      ],
      "source": [
        "# Create a 3x5 floating-point array filled with ones\n",
        "np.ones((3, 5), dtype=float)"
      ]
    },
    {
      "cell_type": "code",
      "execution_count": null,
      "metadata": {
        "id": "kK1vT1RsaMDo",
        "outputId": "cf1c8052-b78c-42ed-e666-fda70325daac"
      },
      "outputs": [
        {
          "data": {
            "text/plain": [
              "array([[ 3.14,  3.14,  3.14,  3.14,  3.14],\n",
              "       [ 3.14,  3.14,  3.14,  3.14,  3.14],\n",
              "       [ 3.14,  3.14,  3.14,  3.14,  3.14]])"
            ]
          },
          "execution_count": 14,
          "metadata": {},
          "output_type": "execute_result"
        }
      ],
      "source": [
        "# Create a 3x5 array filled with 3.14\n",
        "np.full((3, 5), 3.14)"
      ]
    },
    {
      "cell_type": "code",
      "execution_count": null,
      "metadata": {
        "id": "nj64v0I8aMDo",
        "outputId": "5e23fb15-6227-4653-c4ae-8e823fc99fda"
      },
      "outputs": [
        {
          "data": {
            "text/plain": [
              "array([ 0,  2,  4,  6,  8, 10, 12, 14, 16, 18])"
            ]
          },
          "execution_count": 15,
          "metadata": {},
          "output_type": "execute_result"
        }
      ],
      "source": [
        "# Create an array filled with a linear sequence\n",
        "# Starting at 0, ending at 20, stepping by 2\n",
        "# (this is similar to the built-in range() function)\n",
        "np.arange(0, 20, 2)"
      ]
    },
    {
      "cell_type": "code",
      "execution_count": null,
      "metadata": {
        "id": "cTcgQZQDaMDo",
        "outputId": "124bf3bc-ca74-46c7-b774-786c3150d16f"
      },
      "outputs": [
        {
          "data": {
            "text/plain": [
              "array([ 0.  ,  0.25,  0.5 ,  0.75,  1.  ])"
            ]
          },
          "execution_count": 16,
          "metadata": {},
          "output_type": "execute_result"
        }
      ],
      "source": [
        "# Create an array of five values evenly spaced between 0 and 1\n",
        "np.linspace(0, 1, 5)"
      ]
    },
    {
      "cell_type": "code",
      "execution_count": null,
      "metadata": {
        "id": "Cz0yKGDUaMDo",
        "outputId": "097b51ad-2cab-4972-f361-1b86b03a40c3"
      },
      "outputs": [
        {
          "data": {
            "text/plain": [
              "array([[ 0.99844933,  0.52183819,  0.22421193],\n",
              "       [ 0.08007488,  0.45429293,  0.20941444],\n",
              "       [ 0.14360941,  0.96910973,  0.946117  ]])"
            ]
          },
          "execution_count": 17,
          "metadata": {},
          "output_type": "execute_result"
        }
      ],
      "source": [
        "# Create a 3x3 array of uniformly distributed\n",
        "# random values between 0 and 1\n",
        "np.random.random((3, 3))"
      ]
    },
    {
      "cell_type": "code",
      "execution_count": null,
      "metadata": {
        "id": "p4tveWU4aMDo",
        "outputId": "c0743777-a792-48d5-f9b4-72c809a07915"
      },
      "outputs": [
        {
          "data": {
            "text/plain": [
              "array([[ 1.51772646,  0.39614948, -0.10634696],\n",
              "       [ 0.25671348,  0.00732722,  0.37783601],\n",
              "       [ 0.68446945,  0.15926039, -0.70744073]])"
            ]
          },
          "execution_count": 18,
          "metadata": {},
          "output_type": "execute_result"
        }
      ],
      "source": [
        "# Create a 3x3 array of normally distributed random values\n",
        "# with mean 0 and standard deviation 1\n",
        "np.random.normal(0, 1, (3, 3))"
      ]
    },
    {
      "cell_type": "code",
      "execution_count": null,
      "metadata": {
        "id": "X0Fko3MoaMDp",
        "outputId": "45c3c8eb-544c-419e-d3a2-26a74c276b6f"
      },
      "outputs": [
        {
          "data": {
            "text/plain": [
              "array([[2, 3, 4],\n",
              "       [5, 7, 8],\n",
              "       [0, 5, 0]])"
            ]
          },
          "execution_count": 19,
          "metadata": {},
          "output_type": "execute_result"
        }
      ],
      "source": [
        "# Create a 3x3 array of random integers in the interval [0, 10)\n",
        "np.random.randint(0, 10, (3, 3))"
      ]
    },
    {
      "cell_type": "code",
      "execution_count": null,
      "metadata": {
        "id": "yeySKFLgaMDp",
        "outputId": "9ba786eb-e0a9-4519-f110-9c2db75243d0"
      },
      "outputs": [
        {
          "data": {
            "text/plain": [
              "array([[ 1.,  0.,  0.],\n",
              "       [ 0.,  1.,  0.],\n",
              "       [ 0.,  0.,  1.]])"
            ]
          },
          "execution_count": 20,
          "metadata": {},
          "output_type": "execute_result"
        }
      ],
      "source": [
        "# Create a 3x3 identity matrix\n",
        "np.eye(3)"
      ]
    },
    {
      "cell_type": "code",
      "execution_count": null,
      "metadata": {
        "id": "I4x2VeH8aMDp",
        "outputId": "e4b79114-09fa-4b4e-8de5-960a7d662604"
      },
      "outputs": [
        {
          "data": {
            "text/plain": [
              "array([ 1.,  1.,  1.])"
            ]
          },
          "execution_count": 21,
          "metadata": {},
          "output_type": "execute_result"
        }
      ],
      "source": [
        "# Create an uninitialized array of three integers\n",
        "# The values will be whatever happens to already exist at that memory location\n",
        "np.empty(3)"
      ]
    },
    {
      "cell_type": "markdown",
      "metadata": {
        "id": "PhvnV6AfaMDp"
      },
      "source": [
        "## NumPy Standard Data Types\n",
        "\n",
        "NumPy arrays contain values of a single type, so it is important to have detailed knowledge of those types and their limitations.\n",
        "Because NumPy is built in C, the types will be familiar to users of C, Fortran, and other related languages.\n",
        "\n",
        "The standard NumPy data types are listed in the following table.\n",
        "Note that when constructing an array, they can be specified using a string:\n",
        "\n",
        "```python\n",
        "np.zeros(10, dtype='int16')\n",
        "```\n",
        "\n",
        "Or using the associated NumPy object:\n",
        "\n",
        "```python\n",
        "np.zeros(10, dtype=np.int16)\n",
        "```"
      ]
    },
    {
      "cell_type": "markdown",
      "metadata": {
        "id": "-7AQtfajaMDp"
      },
      "source": [
        "| Data type\t    | Description |\n",
        "|---------------|-------------|\n",
        "| ``bool_``     | Boolean (True or False) stored as a byte |\n",
        "| ``int_``      | Default integer type (same as C ``long``; normally either ``int64`` or ``int32``)| \n",
        "| ``intc``      | Identical to C ``int`` (normally ``int32`` or ``int64``)| \n",
        "| ``intp``      | Integer used for indexing (same as C ``ssize_t``; normally either ``int32`` or ``int64``)| \n",
        "| ``int8``      | Byte (-128 to 127)| \n",
        "| ``int16``     | Integer (-32768 to 32767)|\n",
        "| ``int32``     | Integer (-2147483648 to 2147483647)|\n",
        "| ``int64``     | Integer (-9223372036854775808 to 9223372036854775807)| \n",
        "| ``uint8``     | Unsigned integer (0 to 255)| \n",
        "| ``uint16``    | Unsigned integer (0 to 65535)| \n",
        "| ``uint32``    | Unsigned integer (0 to 4294967295)| \n",
        "| ``uint64``    | Unsigned integer (0 to 18446744073709551615)| \n",
        "| ``float_``    | Shorthand for ``float64``.| \n",
        "| ``float16``   | Half precision float: sign bit, 5 bits exponent, 10 bits mantissa| \n",
        "| ``float32``   | Single precision float: sign bit, 8 bits exponent, 23 bits mantissa| \n",
        "| ``float64``   | Double precision float: sign bit, 11 bits exponent, 52 bits mantissa| \n",
        "| ``complex_``  | Shorthand for ``complex128``.| \n",
        "| ``complex64`` | Complex number, represented by two 32-bit floats| \n",
        "| ``complex128``| Complex number, represented by two 64-bit floats| "
      ]
    },
    {
      "cell_type": "markdown",
      "source": [
        "#Ejercicio: Generar un arreglo con los primeros 100 múltiplos de 5\n"
      ],
      "metadata": {
        "id": "fpXEThkNoa0H"
      }
    },
    {
      "cell_type": "code",
      "source": [],
      "metadata": {
        "id": "cw4jRJgcoK7E"
      },
      "execution_count": null,
      "outputs": []
    }
  ],
  "metadata": {
    "anaconda-cloud": {},
    "kernelspec": {
      "display_name": "Python 3",
      "language": "python",
      "name": "python3"
    },
    "language_info": {
      "codemirror_mode": {
        "name": "ipython",
        "version": 3
      },
      "file_extension": ".py",
      "mimetype": "text/x-python",
      "name": "python",
      "nbconvert_exporter": "python",
      "pygments_lexer": "ipython3",
      "version": "3.5.1"
    },
    "colab": {
      "provenance": [],
      "toc_visible": true,
      "include_colab_link": true
    }
  },
  "nbformat": 4,
  "nbformat_minor": 0
}